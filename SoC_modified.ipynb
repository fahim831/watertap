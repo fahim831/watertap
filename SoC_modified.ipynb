{
 "cells": [
  {
   "cell_type": "code",
   "execution_count": 5,
   "id": "2193ea09-7247-4f18-bdd8-ca32f1f8793b",
   "metadata": {},
   "outputs": [
    {
     "ename": "ModuleNotFoundError",
     "evalue": "No module named 'idaes_examples'",
     "output_type": "error",
     "traceback": [
      "\u001b[0;31m---------------------------------------------------------------------------\u001b[0m",
      "\u001b[0;31mModuleNotFoundError\u001b[0m                       Traceback (most recent call last)",
      "Cell \u001b[0;32mIn[5], line 1\u001b[0m\n\u001b[0;32m----> 1\u001b[0m \u001b[38;5;28;01mimport\u001b[39;00m \u001b[38;5;21;01midaes_examples\u001b[39;00m\n",
      "\u001b[0;31mModuleNotFoundError\u001b[0m: No module named 'idaes_examples'"
     ]
    }
   ],
   "source": [
    "import idaes_examples"
   ]
  },
  {
   "cell_type": "code",
   "execution_count": 1,
   "id": "2c950af1-bb0a-4e75-9991-ba341e5d2a24",
   "metadata": {},
   "outputs": [
    {
     "ename": "ModuleNotFoundError",
     "evalue": "No module named 'idaes_examples'",
     "output_type": "error",
     "traceback": [
      "\u001b[0;31m---------------------------------------------------------------------------\u001b[0m",
      "\u001b[0;31mModuleNotFoundError\u001b[0m                       Traceback (most recent call last)",
      "Cell \u001b[0;32mIn[1], line 27\u001b[0m\n\u001b[1;32m     25\u001b[0m \u001b[38;5;28;01mimport\u001b[39;00m \u001b[38;5;21;01midaes\u001b[39;00m\u001b[38;5;21;01m.\u001b[39;00m\u001b[38;5;21;01mlogger\u001b[39;00m \u001b[38;5;28;01mas\u001b[39;00m \u001b[38;5;21;01midaeslog\u001b[39;00m\n\u001b[1;32m     26\u001b[0m \u001b[38;5;28;01mimport\u001b[39;00m \u001b[38;5;21;01midaes\u001b[39;00m\u001b[38;5;21;01m.\u001b[39;00m\u001b[38;5;21;01mcore\u001b[39;00m\u001b[38;5;21;01m.\u001b[39;00m\u001b[38;5;21;01mutil\u001b[39;00m\u001b[38;5;21;01m.\u001b[39;00m\u001b[38;5;21;01mmodel_serializer\u001b[39;00m \u001b[38;5;28;01mas\u001b[39;00m \u001b[38;5;21;01mms\u001b[39;00m\n\u001b[0;32m---> 27\u001b[0m \u001b[38;5;28;01mfrom\u001b[39;00m \u001b[38;5;21;01midaes_examples\u001b[39;00m\u001b[38;5;21;01m.\u001b[39;00m\u001b[38;5;21;01mmod\u001b[39;00m\u001b[38;5;21;01m.\u001b[39;00m\u001b[38;5;21;01mpower_gen\u001b[39;00m\u001b[38;5;21;01m.\u001b[39;00m\u001b[38;5;21;01msoc_dynamic_flowsheet\u001b[39;00m \u001b[38;5;28;01mimport\u001b[39;00m SocStandaloneFlowsheet \u001b[38;5;28;01mas\u001b[39;00m SocFlowsheet\n\u001b[1;32m     28\u001b[0m \u001b[38;5;28;01mimport\u001b[39;00m \u001b[38;5;21;01mmatplotlib\u001b[39;00m\u001b[38;5;21;01m.\u001b[39;00m\u001b[38;5;21;01mpyplot\u001b[39;00m \u001b[38;5;28;01mas\u001b[39;00m \u001b[38;5;21;01mplt\u001b[39;00m\n\u001b[1;32m     29\u001b[0m \u001b[38;5;28;01mfrom\u001b[39;00m \u001b[38;5;21;01midaes\u001b[39;00m\u001b[38;5;21;01m.\u001b[39;00m\u001b[38;5;21;01mmodels\u001b[39;00m\u001b[38;5;21;01m.\u001b[39;00m\u001b[38;5;21;01mcontrol\u001b[39;00m\u001b[38;5;21;01m.\u001b[39;00m\u001b[38;5;21;01mcontroller\u001b[39;00m \u001b[38;5;28;01mimport\u001b[39;00m ControllerType, ControllerMVBoundType, ControllerAntiwindupType\n",
      "\u001b[0;31mModuleNotFoundError\u001b[0m: No module named 'idaes_examples'"
     ]
    }
   ],
   "source": [
    "###############################################################################\n",
    "# The Institute for the Design of Advanced Energy Systems Integrated Platform\n",
    "# Framework (IDAES IP) was produced under the DOE Institute for the\n",
    "# Design of Advanced Energy Systems (IDAES).\n",
    "#\n",
    "# Copyright (c) 2018-2024 by the software owners: The Regents of the\n",
    "# University of California, through Lawrence Berkeley National Laboratory,\n",
    "# National Technology & Engineering Solutions of Sandia, LLC, Carnegie Mellon\n",
    "# University, West Virginia University Research Corporation, et al.\n",
    "# All rights reserved.  Please see the files COPYRIGHT.md and LICENSE.md\n",
    "# for full copyright and license information.\n",
    "###############################################################################\n",
    "\n",
    "from enum import Enum\n",
    "import pandas as pd\n",
    "import numpy as np\n",
    "\n",
    "import pyomo.environ as pyo\n",
    "from pyomo.common.collections import ComponentSet, ComponentMap\n",
    "from pyomo.util.calc_var_value import calculate_variable_from_constraint\n",
    "\n",
    "import idaes.core.util.scaling as iscale\n",
    "from pyomo.dae import DerivativeVar\n",
    "from idaes.core.solvers import petsc\n",
    "import idaes.logger as idaeslog\n",
    "import idaes.core.util.model_serializer as ms\n",
    "from idaes_examples.mod.power_gen.soc_dynamic_flowsheet import SocStandaloneFlowsheet as SocFlowsheet\n",
    "import matplotlib.pyplot as plt\n",
    "from idaes.models.control.controller import ControllerType, ControllerMVBoundType, ControllerAntiwindupType\n",
    "from IPython.display import SVG, display"
   ]
  },
  {
   "cell_type": "code",
   "execution_count": null,
   "id": "bee3e2be-edb7-40cd-9d3b-bced99a0efcc",
   "metadata": {},
   "outputs": [],
   "source": [
    "class OperatingScenario(Enum):\n",
    "    maximum_production = 1\n",
    "    power_mode = 2\n",
    "\n",
    "def scale_indexed_constraint(con, sf):\n",
    "    for idx, c in con.items():\n",
    "        iscale.constraint_scaling_transform(c, sf)\n",
    "\n",
    "def set_indexed_variable_bounds(var, bounds):\n",
    "    for idx, subvar in var.items():\n",
    "        subvar.bounds = bounds\n",
    "\n",
    "def create_ramping_eqns(fs, vars, time_scaling_factor=1):\n",
    "    def rule_ramp(b, t, dvdt, v_ramp):\n",
    "        return dvdt[t] == v_ramp[t]\n",
    "    t0 = fs.time.first()\n",
    "\n",
    "    for var in vars:\n",
    "        var.unfix()\n",
    "        shortname = var.name.split(\".\")[-1]\n",
    "        blk = var.parent_block()\n",
    "        dvdt = DerivativeVar(var, wrt=fs.time, initialize=0)\n",
    "        setattr(blk, \"d\" + shortname + \"dt\", dvdt)\n",
    "        v_ramp = pyo.Var(fs.time, initialize=0)\n",
    "        setattr(blk, shortname + \"_ramp_rate\", v_ramp)\n",
    "        v_ramp_eqn = pyo.Constraint(fs.time, rule=lambda b, t: rule_ramp(b, t, dvdt, v_ramp))\n",
    "        setattr(blk, shortname + \"_ramp_rate_eqn\", v_ramp_eqn)\n",
    "        for t in fs.time:\n",
    "            sv = iscale.get_scaling_factor(var[t], default=1)\n",
    "            iscale.set_scaling_factor(dvdt[t], sv/time_scaling_factor)\n",
    "            iscale.set_scaling_factor(v_ramp[t], sv/time_scaling_factor)\n",
    "            iscale.constraint_scaling_transform(v_ramp_eqn[t], sv/time_scaling_factor)\n",
    "\n",
    "        v_ramp_eqn[t0].deactivate()\n",
    "        v_ramp[t0].fix(0)"
   ]
  },
  {
   "cell_type": "code",
   "execution_count": null,
   "id": "168edcea-90fd-4b15-b930-71c6f9a51ccd",
   "metadata": {},
   "outputs": [],
   "source": [
    "operating_scenario = OperatingScenario.maximum_production\n",
    "m = pyo.ConcreteModel()\n",
    "t_start = 1 * 60 * 60\n",
    "t_ramp = 5 * 60\n",
    "t_settle = 2 * 60 * 60\n",
    "t_end = 3 * 60 * 60\n",
    "\n",
    "dt_set = [t_start, t_ramp, t_settle, t_ramp, t_end]\n",
    "\n",
    "time_set = [sum(dt_set[:j]) for j in range(len(dt_set)+1)]\n",
    "\n",
    "# The names here correspond to the row names in \n",
    "# soec_flowsheet_operating_conditions.csv\n",
    "# There should be len(time_set) entries here.\n",
    "# We start simulating a period at maximum production\n",
    "# in order to confirm the system is at steady state.\n",
    "if operating_scenario == OperatingScenario.maximum_production:\n",
    "    setpoints = [\n",
    "        \"maximum_H2\", \"maximum_H2\",\n",
    "        \"power\", \"power\",\n",
    "        \"maximum_H2\", \"maximum_H2\",\n",
    "    ]\n",
    "elif operating_scenario == OperatingScenario.power_mode: \n",
    "    setpoints = [\n",
    "        \"power\", \"power\",\n",
    "        \"maximum_H2\", \"maximum_H2\",\n",
    "        \"power\", \"power\",\n",
    "    ]\n",
    "else:\n",
    "    raise RuntimeError(\"Please choose a valid operating scenario\")\n",
    "\n",
    "m.fs = SocFlowsheet(\n",
    "    dynamic=True,\n",
    "    time_set=time_set,\n",
    "    time_units=pyo.units.s,\n",
    "    thin_electrolyte_and_oxygen_electrode=True,\n",
    "    include_interconnect=True,\n",
    ")\n",
    "scaling_log = idaeslog.getLogger(\"idaes.core.util.scaling\")\n",
    "scaling_log.setLevel(idaeslog.ERROR)\n",
    "iscale.calculate_scaling_factors(m)"
   ]
  },
  {
   "cell_type": "code",
   "execution_count": null,
   "id": "027b8a90-4e9a-4606-b2b1-180e1c6018bd",
   "metadata": {},
   "outputs": [],
   "source": [
    "for t in m.fs.time:\n",
    "    m.fs.condenser_flash.control_volume.properties_in[t].flow_mol_phase[\"Liq\"].domain = pyo.Reals\n",
    "    m.fs.condenser_flash.control_volume.properties_in[t].flow_mol_phase[\"Liq\"].bounds = (None, None)\n",
    "    m.fs.condenser_flash.control_volume.properties_in[t].phase_frac[\"Liq\"].domain = pyo.Reals\n",
    "    m.fs.condenser_flash.control_volume.properties_in[t].phase_frac[\"Liq\"].bounds = (None, None)\n",
    "    for var in [\n",
    "        m.fs.condenser_flash.control_volume.properties_in[t].log_mole_frac_tdew, \n",
    "        m.fs.condenser_flash.control_volume.properties_in[t]._mole_frac_tdew,\n",
    "    ]:\n",
    "        for idx in var.index_set():\n",
    "            var[idx].domain = pyo.Reals\n",
    "            var[idx].bounds = (None, None)"
   ]
  }
 ],
 "metadata": {
  "kernelspec": {
   "display_name": "Python 3 (ipykernel)",
   "language": "python",
   "name": "python3"
  },
  "language_info": {
   "codemirror_mode": {
    "name": "ipython",
    "version": 3
   },
   "file_extension": ".py",
   "mimetype": "text/x-python",
   "name": "python",
   "nbconvert_exporter": "python",
   "pygments_lexer": "ipython3",
   "version": "3.12.3"
  }
 },
 "nbformat": 4,
 "nbformat_minor": 5
}
